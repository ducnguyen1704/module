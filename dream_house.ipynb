{
 "cells": [
  {
   "cell_type": "markdown",
   "metadata": {},
   "source": [
    "# Ngôi nhà mơ ước"
   ]
  },
  {
   "cell_type": "code",
   "execution_count": 1,
   "metadata": {},
   "outputs": [],
   "source": [
    "import turtle\n",
    "t = turtle.Turtle()\n",
    "t.pencolor('red')\n",
    "t.penup()\n",
    "t.goto(-150,-200)\n",
    "t.pendown()\n",
    "t.speed(10)"
   ]
  },
  {
   "cell_type": "code",
   "execution_count": 2,
   "metadata": {},
   "outputs": [],
   "source": [
    "def draw_house(w,h):\n",
    "    t.fillcolor(\"violet\")\n",
    "    t.begin_fill()\n",
    "    for i in range(2):\n",
    "        t.forward(w)\n",
    "        t.left(90)\n",
    "        t.forward(h)\n",
    "        t.left(90)\n",
    "    t.end_fill()\n",
    "draw_house(400,250)"
   ]
  },
  {
   "cell_type": "code",
   "execution_count": 3,
   "metadata": {},
   "outputs": [],
   "source": [
    "def draw_roof(a):\n",
    "    t.fillcolor(\"brown\")\n",
    "    t.begin_fill()\n",
    "    t.penup()\n",
    "    t.goto(-150,50)\n",
    "    t.pendown()\n",
    "    t.left(60)\n",
    "    for i in range(3):\n",
    "        t.forward(a)\n",
    "        t.right(120)\n",
    "    t.right(60)\n",
    "    t.end_fill()\n",
    "draw_roof(250)"
   ]
  },
  {
   "cell_type": "code",
   "execution_count": 4,
   "metadata": {},
   "outputs": [],
   "source": [
    "def draw_door(b,c):\n",
    "    t.pencolor(\"black\")\n",
    "    t.penup()\n",
    "    t.goto(-30,-200)\n",
    "    t.pendown()\n",
    "    t.fillcolor(\"green\")\n",
    "    t.begin_fill()\n",
    "    for i in range(2):\n",
    "        t.forward(b)\n",
    "        t.left(90)\n",
    "        t.forward(c)\n",
    "        t.left(90)\n",
    "    t.forward(b/2)\n",
    "    t.left(90)\n",
    "    t.forward(c)\n",
    "    t.end_fill()\n",
    "draw_door(170,150)"
   ]
  },
  {
   "cell_type": "code",
   "execution_count": 5,
   "metadata": {},
   "outputs": [],
   "source": [
    "def draw_funnel():\n",
    "    t.penup()\n",
    "    t.goto(26,180)\n",
    "    t.pendown()\n",
    "    t.forward(60)\n",
    "    t.right(90)\n",
    "    t.forward(40)\n",
    "    t.right(90)\n",
    "    t.forward(120)"
   ]
  },
  {
   "cell_type": "code",
   "execution_count": null,
   "metadata": {},
   "outputs": [],
   "source": [
    "def tree():\n",
    "    t.penup()\n",
    "    t.goto(-250,-200)\n",
    "    t.pendown()\n",
    "    t.left(90)\n",
    "    t.speed(3)\n",
    "    t.fillcolor(\"brown\")\n",
    "    t.begin_fill()\n",
    "    for i in range(3):\n",
    "        t.forward(50)\n",
    "        t.right(90)\n",
    "        t.forward(150)\n",
    "        t.right(90)\n",
    "    t.end_fill()\n",
    "    t.penup()\n",
    "    t.goto(-300,-50)\n",
    "    t.pendown()\n",
    "    t.left(180)\n",
    "    t.fillcolor(\"green\")\n",
    "    t.begin_fill()\n",
    "    t.forward(50)\n",
    "    t.right(120)\n",
    "    for i in range(3):\n",
    "        t.forward(150)\n",
    "        t.right(120)\n",
    "    t.end_fill()\n",
    "tree()"
   ]
  },
  {
   "cell_type": "code",
   "execution_count": null,
   "metadata": {},
   "outputs": [],
   "source": []
  },
  {
   "cell_type": "code",
   "execution_count": 7,
   "metadata": {},
   "outputs": [],
   "source": [
    "\n"
   ]
  },
  {
   "cell_type": "code",
   "execution_count": null,
   "metadata": {},
   "outputs": [],
   "source": []
  }
 ],
 "metadata": {
  "kernelspec": {
   "display_name": "Python 3",
   "language": "python",
   "name": "python3"
  },
  "language_info": {
   "codemirror_mode": {
    "name": "ipython",
    "version": 3
   },
   "file_extension": ".py",
   "mimetype": "text/x-python",
   "name": "python",
   "nbconvert_exporter": "python",
   "pygments_lexer": "ipython3",
   "version": "3.7.6"
  }
 },
 "nbformat": 4,
 "nbformat_minor": 4
}

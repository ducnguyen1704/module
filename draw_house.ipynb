{
 "cells": [
  {
   "cell_type": "markdown",
   "metadata": {},
   "source": [
    "# Vẽ nhà sử dụng function"
   ]
  },
  {
   "cell_type": "code",
   "execution_count": 1,
   "metadata": {},
   "outputs": [],
   "source": [
    "import turtle\n",
    "t = turtle.Turtle()\n",
    "t.pencolor('red')\n",
    "t.penup()\n",
    "t.goto(-100,-200)\n",
    "t.pendown()"
   ]
  },
  {
   "cell_type": "code",
   "execution_count": 2,
   "metadata": {},
   "outputs": [],
   "source": [
    "def draw_rect1(w,h):\n",
    "    t.fillcolor(\"yellow\")\n",
    "    t.begin_fill()\n",
    "    for i in range(2):\n",
    "        t.forward(h)\n",
    "        t.left(90)\n",
    "        t.forward(w)\n",
    "        t.left(90)\n",
    "    t.end_fill()"
   ]
  },
  {
   "cell_type": "code",
   "execution_count": 3,
   "metadata": {},
   "outputs": [],
   "source": [
    "\n",
    "def draw_rect2(w,h):\n",
    "    t.left(180)\n",
    "    t.fillcolor(\"blue\")\n",
    "    t.begin_fill()\n",
    "    for i in range(2):\n",
    "        t.forward(h)\n",
    "        t.right(90)\n",
    "        t.forward(w)\n",
    "        t.right(90)\n",
    "    t.end_fill()\n"
   ]
  },
  {
   "cell_type": "code",
   "execution_count": 4,
   "metadata": {},
   "outputs": [],
   "source": [
    "def draw_rect3(w,h):\n",
    "    t.penup()\n",
    "    t.goto(-250,0)\n",
    "    t.pendown()\n",
    "    t.right(90)\n",
    "    t.fillcolor(\"blue\")\n",
    "    t.begin_fill()\n",
    "    for i in range(2):\n",
    "        t.forward(w)\n",
    "        t.right(90)\n",
    "        t.forward(h)\n",
    "        t.right(90)\n",
    "    t.end_fill()"
   ]
  },
  {
   "cell_type": "code",
   "execution_count": 5,
   "metadata": {},
   "outputs": [],
   "source": [
    "def draw_rect4(w,h):\n",
    "    t.penup()\n",
    "    t.goto(-100,0)\n",
    "    t.pendown()\n",
    "    t.fillcolor(\"yellow\")\n",
    "    t.begin_fill()\n",
    "    for i in range(2):\n",
    "        t.forward(w)\n",
    "        t.right(90)\n",
    "        t.forward(h)\n",
    "        t.right(90)\n",
    "    t.end_fill()\n"
   ]
  },
  {
   "cell_type": "code",
   "execution_count": 6,
   "metadata": {},
   "outputs": [],
   "source": [
    "def draw_windows(a,b):\n",
    "    t.fillcolor(\"white\")\n",
    "    t.begin_fill()\n",
    "    t.penup()\n",
    "    t.goto(-150,50)\n",
    "    t.pendown()\n",
    "    for j in range(2):\n",
    "        t.forward(a)\n",
    "        t.left(90)\n",
    "        t.forward(b)\n",
    "        t.left(90)\n",
    "    t.end_fill()\n",
    "    t.penup()\n",
    "    t.goto(-50,50)\n",
    "    t.pendown()\n",
    "    t.fillcolor(\"white\")\n",
    "    t.begin_fill()\n",
    "    for j in range(2):\n",
    "        t.forward(a)\n",
    "        t.right(90)\n",
    "        t.forward(b)\n",
    "        t.right(90)\n",
    "    t.end_fill()\n",
    "    t.penup()\n",
    "    t.goto(-50,-150)\n",
    "    t.pendown()\n",
    "    t.fillcolor(\"white\")\n",
    "    t.begin_fill()\n",
    "    for j in range(2):\n",
    "        t.forward(a)\n",
    "        t.right(90)\n",
    "        t.forward(b)\n",
    "        t.right(90)\n",
    "    t.end_fill()\n",
    "    t.penup()\n",
    "    t.goto(-150,-150)\n",
    "    t.pendown()\n",
    "    t.fillcolor(\"white\")\n",
    "    t.begin_fill()\n",
    "    for j in range(2):\n",
    "        t.forward(a)\n",
    "        t.left(90)\n",
    "        t.forward(b)\n",
    "        t.left(90)\n",
    "    t.end_fill()"
   ]
  },
  {
   "cell_type": "code",
   "execution_count": 7,
   "metadata": {},
   "outputs": [],
   "source": [
    "def draw_rect5(w,h):\n",
    "    t.fillcolor(\"violet\")\n",
    "    t.begin_fill()\n",
    "    t.penup()\n",
    "    t.goto(50,-200)\n",
    "    t.pendown()\n",
    "    for j in range(2):\n",
    "        t.forward(w)\n",
    "        t.right(90)\n",
    "        t.forward(h)\n",
    "        t.right(90)\n",
    "    t.end_fill()"
   ]
  },
  {
   "cell_type": "code",
   "execution_count": 8,
   "metadata": {},
   "outputs": [],
   "source": [
    "def draw_door(a,b):\n",
    "    t.penup()\n",
    "    t.goto(75,-200)\n",
    "    t.pendown()\n",
    "    t.fillcolor(\"white\")\n",
    "    t.begin_fill()\n",
    "    for j in range(2):\n",
    "        t.forward(a)\n",
    "        t.right(90)\n",
    "        t.forward(a)\n",
    "        t.right(90)\n",
    "    t.end_fill()\n",
    "    t.right(90)\n",
    "    t.forward(b)\n",
    "    t.left(90)\n",
    "    t.forward(a)"
   ]
  },
  {
   "cell_type": "code",
   "execution_count": 9,
   "metadata": {},
   "outputs": [
    {
     "name": "stdout",
     "output_type": "stream",
     "text": [
      "Nhập vào chiều dài, chiều rộng: 200 150\n",
      "Nhập vào chiều dài, chiều rộng cửa sổ: 100 50\n"
     ]
    }
   ],
   "source": [
    "w, h = map(int, input(\"Nhập vào chiều dài, chiều rộng: \").split(\" \"))\n",
    "a, b = map(int, input(\"Nhập vào chiều dài, chiều rộng cửa sổ: \").split(\" \"))\n",
    "draw_rect1(w,h)\n",
    "draw_rect2(w,h)\n",
    "draw_rect3(w,h)\n",
    "draw_rect4(w,h)\n",
    "draw_rect5(w,h)\n",
    "draw_windows(a,b)\n",
    "draw_door(a,b)"
   ]
  },
  {
   "cell_type": "code",
   "execution_count": null,
   "metadata": {},
   "outputs": [],
   "source": []
  }
 ],
 "metadata": {
  "kernelspec": {
   "display_name": "Python 3",
   "language": "python",
   "name": "python3"
  },
  "language_info": {
   "codemirror_mode": {
    "name": "ipython",
    "version": 3
   },
   "file_extension": ".py",
   "mimetype": "text/x-python",
   "name": "python",
   "nbconvert_exporter": "python",
   "pygments_lexer": "ipython3",
   "version": "3.7.6"
  }
 },
 "nbformat": 4,
 "nbformat_minor": 4
}

{
 "cells": [
  {
   "cell_type": "markdown",
   "metadata": {},
   "source": [
    "# Xây dựng hàm chuyển đổi nhiệt độ"
   ]
  },
  {
   "cell_type": "code",
   "execution_count": 28,
   "metadata": {},
   "outputs": [],
   "source": [
    "import math\n",
    "import numpy as np\n",
    "def trans(F):\n",
    "    C = ((F-32)/1.8)\n",
    "    print(\"{} độ F bằng {:.2f} Độ C\".format(F,C))"
   ]
  },
  {
   "cell_type": "code",
   "execution_count": 29,
   "metadata": {},
   "outputs": [
    {
     "name": "stdout",
     "output_type": "stream",
     "text": [
      "1 độ F bằng -17.22 Độ C\n"
     ]
    }
   ],
   "source": [
    "trans(1)"
   ]
  },
  {
   "cell_type": "code",
   "execution_count": 31,
   "metadata": {},
   "outputs": [
    {
     "name": "stdout",
     "output_type": "stream",
     "text": [
      "74 độ F bằng 23.33 Độ C\n",
      "None\n",
      "100 độ F bằng 37.78 Độ C\n",
      "None\n",
      "32 độ F bằng 0.00 Độ C\n",
      "None\n"
     ]
    }
   ],
   "source": [
    "\n",
    "print(trans(74))\n",
    "print(trans(100))\n",
    "print(trans(32))"
   ]
  },
  {
   "cell_type": "code",
   "execution_count": null,
   "metadata": {},
   "outputs": [],
   "source": []
  }
 ],
 "metadata": {
  "kernelspec": {
   "display_name": "Python 3",
   "language": "python",
   "name": "python3"
  },
  "language_info": {
   "codemirror_mode": {
    "name": "ipython",
    "version": 3
   },
   "file_extension": ".py",
   "mimetype": "text/x-python",
   "name": "python",
   "nbconvert_exporter": "python",
   "pygments_lexer": "ipython3",
   "version": "3.7.6"
  }
 },
 "nbformat": 4,
 "nbformat_minor": 4
}

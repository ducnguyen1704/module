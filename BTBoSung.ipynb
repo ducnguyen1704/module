{
 "cells": [
  {
   "cell_type": "code",
   "execution_count": 4,
   "metadata": {},
   "outputs": [],
   "source": [
    "import turtle\n",
    "import math\n",
    "t = turtle.Turtle()\n",
    "def draw_square(w):\n",
    "    t.pensize(3)\n",
    "    t.pencolor(\"red\")\n",
    "    t.fillcolor(\"Green\")\n",
    "    t.begin_fill()\n",
    "    for i in range(4):\n",
    "        t.forward(w)\n",
    "        t.left(90)\n",
    "    t.end_fill()\n",
    "def draw_circle(r):\n",
    "    t.pensize(3)\n",
    "    t.pencolor(\"red\")\n",
    "    t.fillcolor(\"yellow\")\n",
    "    t.begin_fill()\n",
    "    t.circle(w)\n",
    "    t.end_fill()\n",
    "def draw_rectangle(w,h):\n",
    "    t.pensize(3)\n",
    "    t.pencolor(\"red\")\n",
    "    t.fillcolor(\"blue\")\n",
    "    t.begin_fill()\n",
    "    for i in range(2):\n",
    "        t.forward(w)\n",
    "        t.left(90)\n",
    "        t.forward(h)\n",
    "        t.left(90)\n",
    "    t.end_fill()\n",
    "def draw_heart():\n",
    "    t.pensize(3)\n",
    "    t.pencolor(\"red\")\n",
    "    t.fillcolor(\"red\")\n",
    "    t.begin_fill()\n",
    "    t.left(135)\n",
    "    for i in range(2):\n",
    "        t.forward(50)\n",
    "        t.left(90)\n",
    "    for i in range(2):\n",
    "        t.forward(100)\n",
    "        t.left(90)\n",
    "    t.forward(50)\n",
    "    t.left(90)\n",
    "    t.forward(51)\n",
    "    t.end_fill()"
   ]
  },
  {
   "cell_type": "code",
   "execution_count": 2,
   "metadata": {},
   "outputs": [
    {
     "name": "stdout",
     "output_type": "stream",
     "text": [
      "Nhập độ dài 1 cạnh: 100\n"
     ]
    }
   ],
   "source": [
    "# Vẽ hình vuông\n",
    "w = int(input(\"Nhập độ dài 1 cạnh: \"))\n",
    "draw_square(w)"
   ]
  },
  {
   "cell_type": "code",
   "execution_count": 3,
   "metadata": {},
   "outputs": [
    {
     "name": "stdout",
     "output_type": "stream",
     "text": [
      "Nhập bán kính: 100\n"
     ]
    }
   ],
   "source": [
    "# Vẽ hình tròn\n",
    "r = int(input(\"Nhập bán kính: \"))\n",
    "draw_circle(r)"
   ]
  },
  {
   "cell_type": "code",
   "execution_count": 6,
   "metadata": {},
   "outputs": [
    {
     "name": "stdout",
     "output_type": "stream",
     "text": [
      "Nhập vào chiều dài và chiều rộng của hình chữ nhật: 100 50\n"
     ]
    }
   ],
   "source": [
    "# Vẽ hình chữ nhật:\n",
    "w, h = map(int, input(\"Nhập vào chiều dài và chiều rộng của hình chữ nhật: \").split(\" \"))\n",
    "draw_rectangle(w,h)"
   ]
  },
  {
   "cell_type": "code",
   "execution_count": 5,
   "metadata": {},
   "outputs": [],
   "source": [
    "# vẽ trái tim\n",
    "draw_heart()"
   ]
  },
  {
   "cell_type": "code",
   "execution_count": 3,
   "metadata": {},
   "outputs": [],
   "source": []
  },
  {
   "cell_type": "code",
   "execution_count": 4,
   "metadata": {},
   "outputs": [],
   "source": []
  },
  {
   "cell_type": "code",
   "execution_count": null,
   "metadata": {},
   "outputs": [],
   "source": []
  }
 ],
 "metadata": {
  "kernelspec": {
   "display_name": "Python 3",
   "language": "python",
   "name": "python3"
  },
  "language_info": {
   "codemirror_mode": {
    "name": "ipython",
    "version": 3
   },
   "file_extension": ".py",
   "mimetype": "text/x-python",
   "name": "python",
   "nbconvert_exporter": "python",
   "pygments_lexer": "ipython3",
   "version": "3.7.6"
  }
 },
 "nbformat": 4,
 "nbformat_minor": 4
}
